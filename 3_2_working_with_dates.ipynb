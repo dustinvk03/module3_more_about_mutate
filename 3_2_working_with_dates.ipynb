{
 "cells": [
  {
   "cell_type": "markdown",
   "metadata": {},
   "source": [
    "## Working with Dates"
   ]
  },
  {
   "cell_type": "code",
   "execution_count": 9,
   "metadata": {},
   "outputs": [],
   "source": [
    "import pandas as pd\n",
    "from dfply import *\n",
    "import matplotlib.pylab as plt\n",
    "%matplotlib inline"
   ]
  },
  {
   "cell_type": "markdown",
   "metadata": {},
   "source": [
    "## Hiding stack traceback\n",
    "\n",
    "We hide the exception traceback for didactic reasons (code source: [see this post](https://stackoverflow.com/questions/46222753/how-do-i-suppress-tracebacks-in-jupyter)).  Don't run this cell if you want to see a full traceback."
   ]
  },
  {
   "cell_type": "code",
   "execution_count": 10,
   "metadata": {},
   "outputs": [],
   "source": [
    "import sys\n",
    "ipython = get_ipython()\n",
    "\n",
    "def hide_traceback(exc_tuple=None, filename=None, tb_offset=None,\n",
    "                   exception_only=False, running_compiled_code=False):\n",
    "    etype, value, tb = sys.exc_info()\n",
    "    return ipython._showtraceback(etype, value, ipython.InteractiveTB.get_exception_only(etype, value))\n",
    "\n",
    "ipython.showtraceback = hide_traceback"
   ]
  },
  {
   "cell_type": "markdown",
   "metadata": {},
   "source": [
    "## Data set\n",
    "\n",
    "We will be using two of the data sets provided by the Museam of Modern Art (MoMA) in this lecture.  Make sure that you have downloaded each repository.  [Download Instructions](./get_MOMA_data.ipynb)"
   ]
  },
  {
   "cell_type": "markdown",
   "metadata": {},
   "source": [
    "## The exhibition file gives encoding errors by default"
   ]
  },
  {
   "cell_type": "code",
   "execution_count": 11,
   "metadata": {
    "scrolled": true
   },
   "outputs": [],
   "source": [
    "exhibitions = pd.read_csv('./data/MoMAExhibitions1929to1989.csv')"
   ]
  },
  {
   "cell_type": "markdown",
   "metadata": {},
   "source": [
    "## Switching encodings fixes the problem\n",
    "\n",
    "* See [this Stack Overflow question](https://stackoverflow.com/questions/18171739/unicodedecodeerror-when-reading-csv-file-in-pandas-with-python)\n",
    "* More details on [ISO-8859-1](https://en.wikipedia.org/wiki/ISO/IEC_8859-1)"
   ]
  },
  {
   "cell_type": "code",
   "execution_count": 12,
   "metadata": {
    "scrolled": false
   },
   "outputs": [
    {
     "data": {
      "text/html": [
       "<div>\n",
       "<style scoped>\n",
       "    .dataframe tbody tr th:only-of-type {\n",
       "        vertical-align: middle;\n",
       "    }\n",
       "\n",
       "    .dataframe tbody tr th {\n",
       "        vertical-align: top;\n",
       "    }\n",
       "\n",
       "    .dataframe thead th {\n",
       "        text-align: right;\n",
       "    }\n",
       "</style>\n",
       "<table border=\"1\" class=\"dataframe\">\n",
       "  <thead>\n",
       "    <tr style=\"text-align: right;\">\n",
       "      <th></th>\n",
       "      <th>ExhibitionID</th>\n",
       "      <th>ExhibitionNumber</th>\n",
       "      <th>ExhibitionTitle</th>\n",
       "      <th>ExhibitionCitationDate</th>\n",
       "      <th>ExhibitionBeginDate</th>\n",
       "      <th>ExhibitionEndDate</th>\n",
       "      <th>ExhibitionSortOrder</th>\n",
       "      <th>ExhibitionURL</th>\n",
       "      <th>ExhibitionRole</th>\n",
       "      <th>ExhibitionRoleinPressRelease</th>\n",
       "      <th>...</th>\n",
       "      <th>Institution</th>\n",
       "      <th>Nationality</th>\n",
       "      <th>ConstituentBeginDate</th>\n",
       "      <th>ConstituentEndDate</th>\n",
       "      <th>ArtistBio</th>\n",
       "      <th>Gender</th>\n",
       "      <th>VIAFID</th>\n",
       "      <th>WikidataID</th>\n",
       "      <th>ULANID</th>\n",
       "      <th>ConstituentURL</th>\n",
       "    </tr>\n",
       "  </thead>\n",
       "  <tbody>\n",
       "    <tr>\n",
       "      <th>0</th>\n",
       "      <td>2557.0</td>\n",
       "      <td>1</td>\n",
       "      <td>Cézanne, Gauguin, Seurat, Van Gogh</td>\n",
       "      <td>[MoMA Exh. #1, November 7-December 7, 1929]</td>\n",
       "      <td>1929-11-07</td>\n",
       "      <td>1929-12-07</td>\n",
       "      <td>1.0</td>\n",
       "      <td>moma.org/calendar/exhibitions/1767</td>\n",
       "      <td>Curator</td>\n",
       "      <td>Director</td>\n",
       "      <td>...</td>\n",
       "      <td>NaN</td>\n",
       "      <td>American</td>\n",
       "      <td>1902</td>\n",
       "      <td>1981</td>\n",
       "      <td>American, 19021981</td>\n",
       "      <td>Male</td>\n",
       "      <td>109252853.0</td>\n",
       "      <td>Q711362</td>\n",
       "      <td>500241556.0</td>\n",
       "      <td>moma.org/artists/9168</td>\n",
       "    </tr>\n",
       "    <tr>\n",
       "      <th>1</th>\n",
       "      <td>2557.0</td>\n",
       "      <td>1</td>\n",
       "      <td>Cézanne, Gauguin, Seurat, Van Gogh</td>\n",
       "      <td>[MoMA Exh. #1, November 7-December 7, 1929]</td>\n",
       "      <td>1929-11-07</td>\n",
       "      <td>1929-12-07</td>\n",
       "      <td>1.0</td>\n",
       "      <td>moma.org/calendar/exhibitions/1767</td>\n",
       "      <td>Artist</td>\n",
       "      <td>Artist</td>\n",
       "      <td>...</td>\n",
       "      <td>NaN</td>\n",
       "      <td>French</td>\n",
       "      <td>1839</td>\n",
       "      <td>1906</td>\n",
       "      <td>French, 18391906</td>\n",
       "      <td>Male</td>\n",
       "      <td>39374836.0</td>\n",
       "      <td>Q35548</td>\n",
       "      <td>500004793.0</td>\n",
       "      <td>moma.org/artists/1053</td>\n",
       "    </tr>\n",
       "  </tbody>\n",
       "</table>\n",
       "<p>2 rows × 28 columns</p>\n",
       "</div>"
      ],
      "text/plain": [
       "   ExhibitionID ExhibitionNumber                     ExhibitionTitle  \\\n",
       "0        2557.0                1  Cézanne, Gauguin, Seurat, Van Gogh   \n",
       "1        2557.0                1  Cézanne, Gauguin, Seurat, Van Gogh   \n",
       "\n",
       "                        ExhibitionCitationDate ExhibitionBeginDate  \\\n",
       "0  [MoMA Exh. #1, November 7-December 7, 1929]          1929-11-07   \n",
       "1  [MoMA Exh. #1, November 7-December 7, 1929]          1929-11-07   \n",
       "\n",
       "  ExhibitionEndDate  ExhibitionSortOrder                       ExhibitionURL  \\\n",
       "0        1929-12-07                  1.0  moma.org/calendar/exhibitions/1767   \n",
       "1        1929-12-07                  1.0  moma.org/calendar/exhibitions/1767   \n",
       "\n",
       "  ExhibitionRole ExhibitionRoleinPressRelease  ...  Institution Nationality  \\\n",
       "0        Curator                     Director  ...          NaN    American   \n",
       "1         Artist                       Artist  ...          NaN      French   \n",
       "\n",
       "  ConstituentBeginDate ConstituentEndDate            ArtistBio Gender  \\\n",
       "0                 1902               1981  American, 19021981   Male   \n",
       "1                 1839               1906    French, 18391906   Male   \n",
       "\n",
       "        VIAFID WikidataID       ULANID         ConstituentURL  \n",
       "0  109252853.0    Q711362  500241556.0  moma.org/artists/9168  \n",
       "1   39374836.0     Q35548  500004793.0  moma.org/artists/1053  \n",
       "\n",
       "[2 rows x 28 columns]"
      ]
     },
     "execution_count": 12,
     "metadata": {},
     "output_type": "execute_result"
    }
   ],
   "source": [
    "dat_cols = ['ExhibitionBeginDate', 'ExhibitionEndDate', 'ConstituentBeginDate' ,'ConstituentEndDate']\n",
    "exhibitions = pd.read_csv('./data/MoMAExhibitions1929to1989.csv', \n",
    "                          encoding=\"ISO-8859-1\",\n",
    "                          parse_dates=dat_cols)\n",
    "exhibitions.head(2)"
   ]
  },
  {
   "cell_type": "code",
   "execution_count": 13,
   "metadata": {},
   "outputs": [
    {
     "data": {
      "text/plain": [
       "ExhibitionCitationDate            object\n",
       "ExhibitionBeginDate       datetime64[ns]\n",
       "ExhibitionEndDate         datetime64[ns]\n",
       "ConstituentBeginDate              object\n",
       "ConstituentEndDate                object\n",
       "dtype: object"
      ]
     },
     "execution_count": 13,
     "metadata": {},
     "output_type": "execute_result"
    }
   ],
   "source": [
    "(exhibitions >> select(contains('Date'))).dtypes"
   ]
  },
  {
   "cell_type": "code",
   "execution_count": 14,
   "metadata": {},
   "outputs": [
    {
     "data": {
      "text/html": [
       "<div>\n",
       "<style scoped>\n",
       "    .dataframe tbody tr th:only-of-type {\n",
       "        vertical-align: middle;\n",
       "    }\n",
       "\n",
       "    .dataframe tbody tr th {\n",
       "        vertical-align: top;\n",
       "    }\n",
       "\n",
       "    .dataframe thead th {\n",
       "        text-align: right;\n",
       "    }\n",
       "</style>\n",
       "<table border=\"1\" class=\"dataframe\">\n",
       "  <thead>\n",
       "    <tr style=\"text-align: right;\">\n",
       "      <th></th>\n",
       "      <th>ConstituentID</th>\n",
       "      <th>DisplayName</th>\n",
       "      <th>ArtistBio</th>\n",
       "      <th>Nationality</th>\n",
       "      <th>Gender</th>\n",
       "      <th>BeginDate</th>\n",
       "      <th>EndDate</th>\n",
       "      <th>Wiki QID</th>\n",
       "      <th>ULAN</th>\n",
       "    </tr>\n",
       "  </thead>\n",
       "  <tbody>\n",
       "    <tr>\n",
       "      <th>0</th>\n",
       "      <td>1</td>\n",
       "      <td>Robert Arneson</td>\n",
       "      <td>American, 1930–1992</td>\n",
       "      <td>American</td>\n",
       "      <td>Male</td>\n",
       "      <td>1930</td>\n",
       "      <td>1992</td>\n",
       "      <td>NaN</td>\n",
       "      <td>NaN</td>\n",
       "    </tr>\n",
       "    <tr>\n",
       "      <th>1</th>\n",
       "      <td>2</td>\n",
       "      <td>Doroteo Arnaiz</td>\n",
       "      <td>Spanish, born 1936</td>\n",
       "      <td>Spanish</td>\n",
       "      <td>Male</td>\n",
       "      <td>1936</td>\n",
       "      <td>0</td>\n",
       "      <td>NaN</td>\n",
       "      <td>NaN</td>\n",
       "    </tr>\n",
       "  </tbody>\n",
       "</table>\n",
       "</div>"
      ],
      "text/plain": [
       "   ConstituentID     DisplayName            ArtistBio Nationality Gender  \\\n",
       "0              1  Robert Arneson  American, 1930–1992    American   Male   \n",
       "1              2  Doroteo Arnaiz   Spanish, born 1936     Spanish   Male   \n",
       "\n",
       "   BeginDate  EndDate Wiki QID  ULAN  \n",
       "0       1930     1992      NaN   NaN  \n",
       "1       1936        0      NaN   NaN  "
      ]
     },
     "execution_count": 14,
     "metadata": {},
     "output_type": "execute_result"
    }
   ],
   "source": [
    "artists = pd.read_csv(\"./data/Artists.csv\")\n",
    "artists.head(2)"
   ]
  },
  {
   "cell_type": "markdown",
   "metadata": {},
   "source": [
    "## Three date types\n",
    "\n",
    "* **Timestamp** A instant in time.\n",
    "* **Timedelta** A length of time.\n",
    "* **Timeinterval** A window of time."
   ]
  },
  {
   "cell_type": "markdown",
   "metadata": {},
   "source": [
    "#### `datetime` columns are timestamps"
   ]
  },
  {
   "cell_type": "code",
   "execution_count": 15,
   "metadata": {},
   "outputs": [
    {
     "data": {
      "text/plain": [
       "0   1929-11-07\n",
       "1   1929-11-07\n",
       "Name: ExhibitionBeginDate, dtype: datetime64[ns]"
      ]
     },
     "execution_count": 15,
     "metadata": {},
     "output_type": "execute_result"
    }
   ],
   "source": [
    "exhibitions.ExhibitionBeginDate.head(2)"
   ]
  },
  {
   "cell_type": "markdown",
   "metadata": {},
   "source": [
    "#### Subtracting dates produces a `timedelta` column"
   ]
  },
  {
   "cell_type": "code",
   "execution_count": 16,
   "metadata": {},
   "outputs": [
    {
     "data": {
      "text/plain": [
       "0   30 days\n",
       "1   30 days\n",
       "dtype: timedelta64[ns]"
      ]
     },
     "execution_count": 16,
     "metadata": {},
     "output_type": "execute_result"
    }
   ],
   "source": [
    "(exhibitions.ExhibitionEndDate - exhibitions.ExhibitionBeginDate).head(2)"
   ]
  },
  {
   "cell_type": "markdown",
   "metadata": {},
   "source": [
    "#### `Timedelta`s are also created with `pd.Timedelta` and `pd.offsets`"
   ]
  },
  {
   "cell_type": "code",
   "execution_count": 17,
   "metadata": {},
   "outputs": [
    {
     "data": {
      "text/plain": [
       "Timedelta('0 days 00:15:00')"
      ]
     },
     "execution_count": 17,
     "metadata": {},
     "output_type": "execute_result"
    }
   ],
   "source": [
    "pd.Timedelta(pd.offsets.Minute(15))"
   ]
  },
  {
   "cell_type": "code",
   "execution_count": 18,
   "metadata": {},
   "outputs": [
    {
     "data": {
      "text/plain": [
       "Timedelta('5 days 00:00:00')"
      ]
     },
     "execution_count": 18,
     "metadata": {},
     "output_type": "execute_result"
    }
   ],
   "source": [
    "pd.Timedelta(pd.offsets.Hour(120))"
   ]
  },
  {
   "cell_type": "code",
   "execution_count": 19,
   "metadata": {},
   "outputs": [
    {
     "data": {
      "text/plain": [
       "Timedelta('365 days 00:00:00')"
      ]
     },
     "execution_count": 19,
     "metadata": {},
     "output_type": "execute_result"
    }
   ],
   "source": [
    "pd.Timedelta(pd.offsets.Day(365))"
   ]
  },
  {
   "cell_type": "markdown",
   "metadata": {},
   "source": [
    "#### Creating a time `period`\n",
    "\n",
    "More information about Python [strftime(format)](https://docs.python.org/3/library/datetime.html#strftime-and-strptime-behavior)"
   ]
  },
  {
   "cell_type": "code",
   "execution_count": 20,
   "metadata": {
    "scrolled": true
   },
   "outputs": [
    {
     "data": {
      "text/plain": [
       "0    1929-11-04/1929-11-10\n",
       "1    1929-11-04/1929-11-10\n",
       "Name: ExhibitionBeginDate, dtype: period[W-SUN]"
      ]
     },
     "execution_count": 20,
     "metadata": {},
     "output_type": "execute_result"
    }
   ],
   "source": [
    "exhibitions.ExhibitionBeginDate.dt.to_period('w').head(2)"
   ]
  },
  {
   "cell_type": "markdown",
   "metadata": {},
   "source": [
    "# Working with Dates"
   ]
  },
  {
   "cell_type": "code",
   "execution_count": 21,
   "metadata": {},
   "outputs": [],
   "source": [
    "import pandas as pd\n",
    "from dfply import *\n",
    "import matplotlib.pylab as plt\n",
    "%matplotlib inline"
   ]
  },
  {
   "cell_type": "markdown",
   "metadata": {},
   "source": [
    "## Outline\n",
    "\n",
    "* Working with dates.\n",
    "* Working with text columns.\n",
    "* Getting started with regular expressions."
   ]
  },
  {
   "cell_type": "markdown",
   "metadata": {},
   "source": [
    "## Working with dates\n",
    "\n",
    "* Pandas is great with dates!\n",
    "* Converting\n",
    "* Getting dateparts\n",
    "* Windows and more"
   ]
  },
  {
   "cell_type": "markdown",
   "metadata": {},
   "source": [
    "## Example - Uber pickup\n",
    "\n",
    "The following data represent all Uber pickups in New York City in April 2014.  Find the data and more information at [this repository](https://github.com/fivethirtyeight/uber-tlc-foil-response)."
   ]
  },
  {
   "cell_type": "code",
   "execution_count": 22,
   "metadata": {},
   "outputs": [
    {
     "data": {
      "text/html": [
       "<div>\n",
       "<style scoped>\n",
       "    .dataframe tbody tr th:only-of-type {\n",
       "        vertical-align: middle;\n",
       "    }\n",
       "\n",
       "    .dataframe tbody tr th {\n",
       "        vertical-align: top;\n",
       "    }\n",
       "\n",
       "    .dataframe thead th {\n",
       "        text-align: right;\n",
       "    }\n",
       "</style>\n",
       "<table border=\"1\" class=\"dataframe\">\n",
       "  <thead>\n",
       "    <tr style=\"text-align: right;\">\n",
       "      <th></th>\n",
       "      <th>date</th>\n",
       "      <th>lat</th>\n",
       "      <th>lon</th>\n",
       "      <th>base</th>\n",
       "    </tr>\n",
       "  </thead>\n",
       "  <tbody>\n",
       "    <tr>\n",
       "      <th>0</th>\n",
       "      <td>2014-04-18 21:38:00</td>\n",
       "      <td>40.7359</td>\n",
       "      <td>-73.9852</td>\n",
       "      <td>B02682</td>\n",
       "    </tr>\n",
       "    <tr>\n",
       "      <th>1</th>\n",
       "      <td>2014-04-23 15:19:00</td>\n",
       "      <td>40.7642</td>\n",
       "      <td>-73.9543</td>\n",
       "      <td>B02598</td>\n",
       "    </tr>\n",
       "    <tr>\n",
       "      <th>2</th>\n",
       "      <td>2014-04-10 07:15:00</td>\n",
       "      <td>40.7138</td>\n",
       "      <td>-74.0103</td>\n",
       "      <td>B02598</td>\n",
       "    </tr>\n",
       "    <tr>\n",
       "      <th>3</th>\n",
       "      <td>2014-04-11 15:23:00</td>\n",
       "      <td>40.7847</td>\n",
       "      <td>-73.9698</td>\n",
       "      <td>B02682</td>\n",
       "    </tr>\n",
       "    <tr>\n",
       "      <th>4</th>\n",
       "      <td>2014-04-07 17:26:00</td>\n",
       "      <td>40.6460</td>\n",
       "      <td>-73.7767</td>\n",
       "      <td>B02598</td>\n",
       "    </tr>\n",
       "  </tbody>\n",
       "</table>\n",
       "</div>"
      ],
      "text/plain": [
       "                 date      lat      lon    base\n",
       "0 2014-04-18 21:38:00  40.7359 -73.9852  B02682\n",
       "1 2014-04-23 15:19:00  40.7642 -73.9543  B02598\n",
       "2 2014-04-10 07:15:00  40.7138 -74.0103  B02598\n",
       "3 2014-04-11 15:23:00  40.7847 -73.9698  B02682\n",
       "4 2014-04-07 17:26:00  40.6460 -73.7767  B02598"
      ]
     },
     "execution_count": 22,
     "metadata": {},
     "output_type": "execute_result"
    }
   ],
   "source": [
    "names = ['date', 'lat', 'lon', 'base']\n",
    "dates = ['date']\n",
    "uber_april = pd.read_csv(\"./data/uber-raw-data-apr14-sample.csv\",\n",
    "                            names=names, header=0,\n",
    "                            parse_dates=dates)\n",
    "uber_april.head()"
   ]
  },
  {
   "cell_type": "markdown",
   "metadata": {},
   "source": [
    "##  Datetime utility functions\n",
    "\n",
    "The most important helper functions live in the `dt` attribute.  Some examples follow"
   ]
  },
  {
   "cell_type": "code",
   "execution_count": 23,
   "metadata": {
    "scrolled": true
   },
   "outputs": [
    {
     "data": {
      "text/plain": [
       "['ceil',\n",
       " 'date',\n",
       " 'day',\n",
       " 'day_name',\n",
       " 'day_of_week',\n",
       " 'day_of_year',\n",
       " 'dayofweek',\n",
       " 'dayofyear',\n",
       " 'days_in_month',\n",
       " 'daysinmonth',\n",
       " 'floor',\n",
       " 'freq',\n",
       " 'hour',\n",
       " 'is_leap_year',\n",
       " 'is_month_end',\n",
       " 'is_month_start',\n",
       " 'is_quarter_end',\n",
       " 'is_quarter_start',\n",
       " 'is_year_end',\n",
       " 'is_year_start',\n",
       " 'isocalendar',\n",
       " 'microsecond',\n",
       " 'minute',\n",
       " 'month',\n",
       " 'month_name',\n",
       " 'nanosecond',\n",
       " 'normalize',\n",
       " 'quarter',\n",
       " 'round',\n",
       " 'second',\n",
       " 'strftime',\n",
       " 'time',\n",
       " 'timetz',\n",
       " 'to_period',\n",
       " 'to_pydatetime',\n",
       " 'tz',\n",
       " 'tz_convert',\n",
       " 'tz_localize',\n",
       " 'week',\n",
       " 'weekday',\n",
       " 'weekofyear',\n",
       " 'year']"
      ]
     },
     "execution_count": 23,
     "metadata": {},
     "output_type": "execute_result"
    }
   ],
   "source": [
    "[m for m in dir(uber_april.date.dt) if not m.startswith('_')]"
   ]
  },
  {
   "cell_type": "code",
   "execution_count": 24,
   "metadata": {
    "scrolled": true
   },
   "outputs": [
    {
     "data": {
      "text/plain": [
       "42"
      ]
     },
     "execution_count": 24,
     "metadata": {},
     "output_type": "execute_result"
    }
   ],
   "source": [
    "len([m for m in dir(uber_april.date.dt) if not m.startswith('_')])"
   ]
  },
  {
   "cell_type": "code",
   "execution_count": 25,
   "metadata": {},
   "outputs": [
    {
     "data": {
      "text/plain": [
       "0           Friday\n",
       "1        Wednesday\n",
       "2         Thursday\n",
       "3           Friday\n",
       "4           Monday\n",
       "           ...    \n",
       "99995     Saturday\n",
       "99996       Friday\n",
       "99997       Friday\n",
       "99998       Friday\n",
       "99999       Friday\n",
       "Name: date, Length: 100000, dtype: object"
      ]
     },
     "execution_count": 25,
     "metadata": {},
     "output_type": "execute_result"
    }
   ],
   "source": [
    "uber_april.date.dt.day_name()"
   ]
  },
  {
   "cell_type": "markdown",
   "metadata": {},
   "source": [
    "## Extracting dateparts\n",
    "\n",
    "* Primary/typical transformation\n",
    "* Pandas provides datepart attributes"
   ]
  },
  {
   "cell_type": "code",
   "execution_count": 26,
   "metadata": {},
   "outputs": [
    {
     "data": {
      "text/html": [
       "<div>\n",
       "<style scoped>\n",
       "    .dataframe tbody tr th:only-of-type {\n",
       "        vertical-align: middle;\n",
       "    }\n",
       "\n",
       "    .dataframe tbody tr th {\n",
       "        vertical-align: top;\n",
       "    }\n",
       "\n",
       "    .dataframe thead th {\n",
       "        text-align: right;\n",
       "    }\n",
       "</style>\n",
       "<table border=\"1\" class=\"dataframe\">\n",
       "  <thead>\n",
       "    <tr style=\"text-align: right;\">\n",
       "      <th></th>\n",
       "      <th>date</th>\n",
       "      <th>lat</th>\n",
       "      <th>lon</th>\n",
       "      <th>base</th>\n",
       "      <th>hour</th>\n",
       "      <th>day</th>\n",
       "      <th>dayofweek</th>\n",
       "      <th>month</th>\n",
       "      <th>year</th>\n",
       "      <th>weekday_name</th>\n",
       "    </tr>\n",
       "  </thead>\n",
       "  <tbody>\n",
       "    <tr>\n",
       "      <th>0</th>\n",
       "      <td>2014-04-18 21:38:00</td>\n",
       "      <td>40.7359</td>\n",
       "      <td>-73.9852</td>\n",
       "      <td>B02682</td>\n",
       "      <td>21</td>\n",
       "      <td>18</td>\n",
       "      <td>4</td>\n",
       "      <td>4</td>\n",
       "      <td>2014</td>\n",
       "      <td>Friday</td>\n",
       "    </tr>\n",
       "    <tr>\n",
       "      <th>1</th>\n",
       "      <td>2014-04-23 15:19:00</td>\n",
       "      <td>40.7642</td>\n",
       "      <td>-73.9543</td>\n",
       "      <td>B02598</td>\n",
       "      <td>15</td>\n",
       "      <td>23</td>\n",
       "      <td>2</td>\n",
       "      <td>4</td>\n",
       "      <td>2014</td>\n",
       "      <td>Wednesday</td>\n",
       "    </tr>\n",
       "    <tr>\n",
       "      <th>2</th>\n",
       "      <td>2014-04-10 07:15:00</td>\n",
       "      <td>40.7138</td>\n",
       "      <td>-74.0103</td>\n",
       "      <td>B02598</td>\n",
       "      <td>7</td>\n",
       "      <td>10</td>\n",
       "      <td>3</td>\n",
       "      <td>4</td>\n",
       "      <td>2014</td>\n",
       "      <td>Thursday</td>\n",
       "    </tr>\n",
       "    <tr>\n",
       "      <th>3</th>\n",
       "      <td>2014-04-11 15:23:00</td>\n",
       "      <td>40.7847</td>\n",
       "      <td>-73.9698</td>\n",
       "      <td>B02682</td>\n",
       "      <td>15</td>\n",
       "      <td>11</td>\n",
       "      <td>4</td>\n",
       "      <td>4</td>\n",
       "      <td>2014</td>\n",
       "      <td>Friday</td>\n",
       "    </tr>\n",
       "    <tr>\n",
       "      <th>4</th>\n",
       "      <td>2014-04-07 17:26:00</td>\n",
       "      <td>40.6460</td>\n",
       "      <td>-73.7767</td>\n",
       "      <td>B02598</td>\n",
       "      <td>17</td>\n",
       "      <td>7</td>\n",
       "      <td>0</td>\n",
       "      <td>4</td>\n",
       "      <td>2014</td>\n",
       "      <td>Monday</td>\n",
       "    </tr>\n",
       "  </tbody>\n",
       "</table>\n",
       "</div>"
      ],
      "text/plain": [
       "                 date      lat      lon    base  hour  day  dayofweek  month  \\\n",
       "0 2014-04-18 21:38:00  40.7359 -73.9852  B02682    21   18          4      4   \n",
       "1 2014-04-23 15:19:00  40.7642 -73.9543  B02598    15   23          2      4   \n",
       "2 2014-04-10 07:15:00  40.7138 -74.0103  B02598     7   10          3      4   \n",
       "3 2014-04-11 15:23:00  40.7847 -73.9698  B02682    15   11          4      4   \n",
       "4 2014-04-07 17:26:00  40.6460 -73.7767  B02598    17    7          0      4   \n",
       "\n",
       "   year weekday_name  \n",
       "0  2014       Friday  \n",
       "1  2014    Wednesday  \n",
       "2  2014     Thursday  \n",
       "3  2014       Friday  \n",
       "4  2014       Monday  "
      ]
     },
     "execution_count": 26,
     "metadata": {},
     "output_type": "execute_result"
    }
   ],
   "source": [
    "(uber_april\n",
    " >> mutate(hour = uber_april.date.dt.hour,\n",
    "           day = uber_april.date.dt.day,\n",
    "           dayofweek = uber_april.date.dt.dayofweek,\n",
    "           month = uber_april.date.dt.month,\n",
    "           year = uber_april.date.dt.year,\n",
    "           weekday_name = uber_april.date.dt.day_name())\n",
    " >> head)"
   ]
  },
  {
   "cell_type": "markdown",
   "metadata": {},
   "source": [
    "## Exploring datepart distributions\n",
    "\n",
    "* Important step in understanding patterns\n",
    "* Makes it possible to find errors"
   ]
  },
  {
   "cell_type": "markdown",
   "metadata": {},
   "source": [
    "## Weekday frequency ordered by frequency"
   ]
  },
  {
   "cell_type": "code",
   "execution_count": 27,
   "metadata": {},
   "outputs": [
    {
     "data": {
      "text/plain": [
       "Wednesday    19154\n",
       "Tuesday      16171\n",
       "Friday       15930\n",
       "Thursday     15277\n",
       "Saturday     13569\n",
       "Monday       10882\n",
       "Sunday        9017\n",
       "Name: date, dtype: int64"
      ]
     },
     "execution_count": 27,
     "metadata": {},
     "output_type": "execute_result"
    }
   ],
   "source": [
    "uber_april.date.dt.day_name().value_counts()"
   ]
  },
  {
   "cell_type": "code",
   "execution_count": 28,
   "metadata": {},
   "outputs": [
    {
     "data": {
      "text/plain": [
       "<AxesSubplot:>"
      ]
     },
     "execution_count": 28,
     "metadata": {},
     "output_type": "execute_result"
    },
    {
     "data": {
      "image/png": "[encoded data removed]",
      "text/plain": [
       "<Figure size 432x288 with 1 Axes>"
      ]
     },
     "metadata": {
      "needs_background": "light"
     },
     "output_type": "display_data"
    }
   ],
   "source": [
    "uber_april.date.dt.day_name().value_counts().plot(kind='bar')"
   ]
  },
  {
   "cell_type": "markdown",
   "metadata": {},
   "source": [
    "## Weekday ordered chronologically"
   ]
  },
  {
   "cell_type": "code",
   "execution_count": 29,
   "metadata": {},
   "outputs": [
    {
     "data": {
      "text/plain": [
       "<AxesSubplot:>"
      ]
     },
     "execution_count": 29,
     "metadata": {},
     "output_type": "execute_result"
    },
    {
     "data": {
      "image/png": "[encoded data removed]",
      "text/plain": [
       "<Figure size 432x288 with 1 Axes>"
      ]
     },
     "metadata": {
      "needs_background": "light"
     },
     "output_type": "display_data"
    }
   ],
   "source": [
    "uber_april.date.dt.dayofweek.value_counts(sort=False).plot(kind='bar')"
   ]
  },
  {
   "cell_type": "markdown",
   "metadata": {},
   "source": [
    "## <font color=\"red\"> Exercise 3.2.1 </font>\n",
    "\n",
    "Explore the distributions of rides by hour and minute"
   ]
  },
  {
   "cell_type": "code",
   "execution_count": 30,
   "metadata": {},
   "outputs": [
    {
     "data": {
      "text/plain": [
       "<AxesSubplot:>"
      ]
     },
     "execution_count": 30,
     "metadata": {},
     "output_type": "execute_result"
    },
    {
     "data": {
      "image/png": "[encoded data removed]",
      "text/plain": [
       "<Figure size 432x288 with 1 Axes>"
      ]
     },
     "metadata": {
      "needs_background": "light"
     },
     "output_type": "display_data"
    }
   ],
   "source": [
    "# Your code here\n",
    "uber_april.date.dt.hour.value_counts(sort=False).plot(kind = 'bar')\n"
   ]
  },
  {
   "cell_type": "code",
   "execution_count": 31,
   "metadata": {},
   "outputs": [
    {
     "data": {
      "text/plain": [
       "<AxesSubplot:ylabel='Frequency'>"
      ]
     },
     "execution_count": 31,
     "metadata": {},
     "output_type": "execute_result"
    },
    {
     "data": {
      "image/png": "[encoded data removed]",
      "text/plain": [
       "<Figure size 432x288 with 1 Axes>"
      ]
     },
     "metadata": {
      "needs_background": "light"
     },
     "output_type": "display_data"
    }
   ],
   "source": [
    "# Your code here\n",
    "uber_april.date.dt.minute.value_counts().plot(kind = 'hist')"
   ]
  },
  {
   "cell_type": "markdown",
   "metadata": {},
   "source": [
    "## Representing a duration of time with `timedelta`\n",
    "\n",
    "In addition to representing time and dates using the `datetime` `dtype`, pandas also as a type designed to represent the difference between two times/dates.\n",
    "\n",
    "We will use the [NYC Citi Bike System data](https://ride.citibikenyc.com/system-data) to illustrate."
   ]
  },
  {
   "cell_type": "markdown",
   "metadata": {},
   "source": [
    "#### Download and unzip some bike data"
   ]
  },
  {
   "cell_type": "code",
   "execution_count": 32,
   "metadata": {
    "scrolled": false
   },
   "outputs": [],
   "source": [
    "# !wget 'https://s3.amazonaws.com/tripdata/JC-202207-citbike-tripdata.csv.zip' -P ./data\n",
    "# !unzip -o ./data/JC-202207-citbike-tripdata.csv.zip -d ./data\n",
    "# !rm ./data/JC-202207-citbike-tripdata.csv.zip"
   ]
  },
  {
   "cell_type": "markdown",
   "metadata": {},
   "source": [
    "#### Read the data into a dataframe while parsing the two date columns"
   ]
  },
  {
   "cell_type": "code",
   "execution_count": 33,
   "metadata": {},
   "outputs": [
    {
     "data": {
      "text/html": [
       "<div>\n",
       "<style scoped>\n",
       "    .dataframe tbody tr th:only-of-type {\n",
       "        vertical-align: middle;\n",
       "    }\n",
       "\n",
       "    .dataframe tbody tr th {\n",
       "        vertical-align: top;\n",
       "    }\n",
       "\n",
       "    .dataframe thead th {\n",
       "        text-align: right;\n",
       "    }\n",
       "</style>\n",
       "<table border=\"1\" class=\"dataframe\">\n",
       "  <thead>\n",
       "    <tr style=\"text-align: right;\">\n",
       "      <th></th>\n",
       "      <th>ride_id</th>\n",
       "      <th>rideable_type</th>\n",
       "      <th>started_at</th>\n",
       "      <th>ended_at</th>\n",
       "      <th>start_station_name</th>\n",
       "      <th>start_station_id</th>\n",
       "      <th>end_station_name</th>\n",
       "      <th>end_station_id</th>\n",
       "      <th>start_lat</th>\n",
       "      <th>start_lng</th>\n",
       "      <th>end_lat</th>\n",
       "      <th>end_lng</th>\n",
       "      <th>member_casual</th>\n",
       "    </tr>\n",
       "  </thead>\n",
       "  <tbody>\n",
       "    <tr>\n",
       "      <th>0</th>\n",
       "      <td>89CDCE3224502904</td>\n",
       "      <td>classic_bike</td>\n",
       "      <td>2022-07-21 18:19:45</td>\n",
       "      <td>2022-07-21 18:28:21</td>\n",
       "      <td>Marshall St &amp; 2 St</td>\n",
       "      <td>HB408</td>\n",
       "      <td>8 St &amp; Washington St</td>\n",
       "      <td>HB603</td>\n",
       "      <td>40.740802</td>\n",
       "      <td>-74.042521</td>\n",
       "      <td>40.745984</td>\n",
       "      <td>-74.028199</td>\n",
       "      <td>member</td>\n",
       "    </tr>\n",
       "    <tr>\n",
       "      <th>1</th>\n",
       "      <td>3E6E50F51BD4CBD9</td>\n",
       "      <td>electric_bike</td>\n",
       "      <td>2022-07-21 17:50:57</td>\n",
       "      <td>2022-07-21 17:59:17</td>\n",
       "      <td>Marshall St &amp; 2 St</td>\n",
       "      <td>HB408</td>\n",
       "      <td>11 St &amp; Washington St</td>\n",
       "      <td>HB502</td>\n",
       "      <td>40.740802</td>\n",
       "      <td>-74.042521</td>\n",
       "      <td>40.749985</td>\n",
       "      <td>-74.027150</td>\n",
       "      <td>casual</td>\n",
       "    </tr>\n",
       "  </tbody>\n",
       "</table>\n",
       "</div>"
      ],
      "text/plain": [
       "            ride_id  rideable_type          started_at            ended_at  \\\n",
       "0  89CDCE3224502904   classic_bike 2022-07-21 18:19:45 2022-07-21 18:28:21   \n",
       "1  3E6E50F51BD4CBD9  electric_bike 2022-07-21 17:50:57 2022-07-21 17:59:17   \n",
       "\n",
       "   start_station_name start_station_id       end_station_name end_station_id  \\\n",
       "0  Marshall St & 2 St            HB408   8 St & Washington St          HB603   \n",
       "1  Marshall St & 2 St            HB408  11 St & Washington St          HB502   \n",
       "\n",
       "   start_lat  start_lng    end_lat    end_lng member_casual  \n",
       "0  40.740802 -74.042521  40.745984 -74.028199        member  \n",
       "1  40.740802 -74.042521  40.749985 -74.027150        casual  "
      ]
     },
     "execution_count": 33,
     "metadata": {},
     "output_type": "execute_result"
    }
   ],
   "source": [
    "dates = ['started_at', 'ended_at']\n",
    "bike_data = pd.read_csv('./data/JC-202207-citbike-tripdata.csv', parse_dates=dates)\n",
    "bike_data.head(2)"
   ]
  },
  {
   "cell_type": "code",
   "execution_count": 34,
   "metadata": {},
   "outputs": [
    {
     "data": {
      "text/plain": [
       "started_at    datetime64[ns]\n",
       "ended_at      datetime64[ns]\n",
       "dtype: object"
      ]
     },
     "execution_count": 34,
     "metadata": {},
     "output_type": "execute_result"
    }
   ],
   "source": [
    "(bike_data\n",
    " >> select(dates)\n",
    ").dtypes"
   ]
  },
  {
   "cell_type": "markdown",
   "metadata": {},
   "source": [
    "## Creating a `timedelta` column by subtracting dates\n",
    "\n",
    "We can compute the duration of each bike trip by subtracting the start and end times.  Note that the resulting column has the `timedelta` dtype."
   ]
  },
  {
   "cell_type": "code",
   "execution_count": 35,
   "metadata": {},
   "outputs": [
    {
     "data": {
      "text/html": [
       "<div>\n",
       "<style scoped>\n",
       "    .dataframe tbody tr th:only-of-type {\n",
       "        vertical-align: middle;\n",
       "    }\n",
       "\n",
       "    .dataframe tbody tr th {\n",
       "        vertical-align: top;\n",
       "    }\n",
       "\n",
       "    .dataframe thead th {\n",
       "        text-align: right;\n",
       "    }\n",
       "</style>\n",
       "<table border=\"1\" class=\"dataframe\">\n",
       "  <thead>\n",
       "    <tr style=\"text-align: right;\">\n",
       "      <th></th>\n",
       "      <th>started_at</th>\n",
       "      <th>ended_at</th>\n",
       "      <th>duration</th>\n",
       "    </tr>\n",
       "  </thead>\n",
       "  <tbody>\n",
       "    <tr>\n",
       "      <th>0</th>\n",
       "      <td>2022-07-21 18:19:45</td>\n",
       "      <td>2022-07-21 18:28:21</td>\n",
       "      <td>0 days 00:08:36</td>\n",
       "    </tr>\n",
       "    <tr>\n",
       "      <th>1</th>\n",
       "      <td>2022-07-21 17:50:57</td>\n",
       "      <td>2022-07-21 17:59:17</td>\n",
       "      <td>0 days 00:08:20</td>\n",
       "    </tr>\n",
       "  </tbody>\n",
       "</table>\n",
       "</div>"
      ],
      "text/plain": [
       "           started_at            ended_at        duration\n",
       "0 2022-07-21 18:19:45 2022-07-21 18:28:21 0 days 00:08:36\n",
       "1 2022-07-21 17:50:57 2022-07-21 17:59:17 0 days 00:08:20"
      ]
     },
     "execution_count": 35,
     "metadata": {},
     "output_type": "execute_result"
    }
   ],
   "source": [
    "bike_data_w_delta = (bike_data\n",
    "                     >> select(dates)\n",
    "                     >> mutate(duration = X.ended_at - X.started_at)\n",
    "                    )\n",
    "bike_data_w_delta.head(2)"
   ]
  },
  {
   "cell_type": "code",
   "execution_count": 36,
   "metadata": {},
   "outputs": [
    {
     "data": {
      "text/plain": [
       "started_at     datetime64[ns]\n",
       "ended_at       datetime64[ns]\n",
       "duration      timedelta64[ns]\n",
       "dtype: object"
      ]
     },
     "execution_count": 36,
     "metadata": {},
     "output_type": "execute_result"
    }
   ],
   "source": [
    "bike_data_w_delta.dtypes"
   ]
  },
  {
   "cell_type": "markdown",
   "metadata": {},
   "source": [
    "### Methods for timedelta are accessed from the `dt` attribute\n",
    "\n",
    "Similar to the date-parts extracted from a `datetime` column, we can access `timedelta` functions using `dt`."
   ]
  },
  {
   "cell_type": "code",
   "execution_count": 60,
   "metadata": {},
   "outputs": [
    {
     "data": {
      "text/plain": [
       "['ceil',\n",
       " 'components',\n",
       " 'days',\n",
       " 'floor',\n",
       " 'freq',\n",
       " 'microseconds',\n",
       " 'nanoseconds',\n",
       " 'round',\n",
       " 'seconds',\n",
       " 'to_pytimedelta',\n",
       " 'total_seconds']"
      ]
     },
     "execution_count": 60,
     "metadata": {},
     "output_type": "execute_result"
    }
   ],
   "source": [
    "[m for m in dir(bike_data_w_delta.duration.dt) if not m.startswith('_')]"
   ]
  },
  {
   "cell_type": "markdown",
   "metadata": {},
   "source": [
    "#### Various date-parts can be accessed using `dt.components`"
   ]
  },
  {
   "cell_type": "code",
   "execution_count": 38,
   "metadata": {},
   "outputs": [
    {
     "data": {
      "text/html": [
       "<div>\n",
       "<style scoped>\n",
       "    .dataframe tbody tr th:only-of-type {\n",
       "        vertical-align: middle;\n",
       "    }\n",
       "\n",
       "    .dataframe tbody tr th {\n",
       "        vertical-align: top;\n",
       "    }\n",
       "\n",
       "    .dataframe thead th {\n",
       "        text-align: right;\n",
       "    }\n",
       "</style>\n",
       "<table border=\"1\" class=\"dataframe\">\n",
       "  <thead>\n",
       "    <tr style=\"text-align: right;\">\n",
       "      <th></th>\n",
       "      <th>days</th>\n",
       "      <th>hours</th>\n",
       "      <th>minutes</th>\n",
       "      <th>seconds</th>\n",
       "      <th>milliseconds</th>\n",
       "      <th>microseconds</th>\n",
       "      <th>nanoseconds</th>\n",
       "    </tr>\n",
       "  </thead>\n",
       "  <tbody>\n",
       "    <tr>\n",
       "      <th>0</th>\n",
       "      <td>0</td>\n",
       "      <td>0</td>\n",
       "      <td>8</td>\n",
       "      <td>36</td>\n",
       "      <td>0</td>\n",
       "      <td>0</td>\n",
       "      <td>0</td>\n",
       "    </tr>\n",
       "    <tr>\n",
       "      <th>1</th>\n",
       "      <td>0</td>\n",
       "      <td>0</td>\n",
       "      <td>8</td>\n",
       "      <td>20</td>\n",
       "      <td>0</td>\n",
       "      <td>0</td>\n",
       "      <td>0</td>\n",
       "    </tr>\n",
       "  </tbody>\n",
       "</table>\n",
       "</div>"
      ],
      "text/plain": [
       "   days  hours  minutes  seconds  milliseconds  microseconds  nanoseconds\n",
       "0     0      0        8       36             0             0            0\n",
       "1     0      0        8       20             0             0            0"
      ]
     },
     "execution_count": 38,
     "metadata": {},
     "output_type": "execute_result"
    }
   ],
   "source": [
    "bike_data_w_delta.duration.dt.components.head(2)"
   ]
  },
  {
   "cell_type": "markdown",
   "metadata": {},
   "source": [
    "####  `dt.components` is a dataframe!"
   ]
  },
  {
   "cell_type": "code",
   "execution_count": 39,
   "metadata": {},
   "outputs": [
    {
     "data": {
      "text/plain": [
       "0    8\n",
       "1    8\n",
       "Name: minutes, dtype: int64"
      ]
     },
     "execution_count": 39,
     "metadata": {},
     "output_type": "execute_result"
    }
   ],
   "source": [
    "bike_data_w_delta.duration.dt.components.minutes.head(2)"
   ]
  },
  {
   "cell_type": "code",
   "execution_count": 40,
   "metadata": {},
   "outputs": [
    {
     "data": {
      "text/html": [
       "<div>\n",
       "<style scoped>\n",
       "    .dataframe tbody tr th:only-of-type {\n",
       "        vertical-align: middle;\n",
       "    }\n",
       "\n",
       "    .dataframe tbody tr th {\n",
       "        vertical-align: top;\n",
       "    }\n",
       "\n",
       "    .dataframe thead th {\n",
       "        text-align: right;\n",
       "    }\n",
       "</style>\n",
       "<table border=\"1\" class=\"dataframe\">\n",
       "  <thead>\n",
       "    <tr style=\"text-align: right;\">\n",
       "      <th></th>\n",
       "      <th>minutes</th>\n",
       "      <th>seconds</th>\n",
       "    </tr>\n",
       "  </thead>\n",
       "  <tbody>\n",
       "    <tr>\n",
       "      <th>0</th>\n",
       "      <td>8</td>\n",
       "      <td>36</td>\n",
       "    </tr>\n",
       "    <tr>\n",
       "      <th>1</th>\n",
       "      <td>8</td>\n",
       "      <td>20</td>\n",
       "    </tr>\n",
       "  </tbody>\n",
       "</table>\n",
       "</div>"
      ],
      "text/plain": [
       "   minutes  seconds\n",
       "0        8       36\n",
       "1        8       20"
      ]
     },
     "execution_count": 40,
     "metadata": {},
     "output_type": "execute_result"
    }
   ],
   "source": [
    "(bike_data_w_delta.duration.dt.components\n",
    " >> select('minutes', 'seconds')\n",
    " >> head(2))"
   ]
  },
  {
   "cell_type": "markdown",
   "metadata": {},
   "source": [
    "#### Total trip duration using `dt.seconds` and `dt.days`"
   ]
  },
  {
   "cell_type": "code",
   "execution_count": 41,
   "metadata": {},
   "outputs": [
    {
     "data": {
      "text/plain": [
       "0    516\n",
       "1    500\n",
       "Name: duration, dtype: int64"
      ]
     },
     "execution_count": 41,
     "metadata": {},
     "output_type": "execute_result"
    }
   ],
   "source": [
    "bike_data_w_delta.duration.dt.seconds.head(2) #Rounded down to closest second"
   ]
  },
  {
   "cell_type": "code",
   "execution_count": 42,
   "metadata": {},
   "outputs": [
    {
     "data": {
      "text/plain": [
       "0    0\n",
       "1    0\n",
       "Name: duration, dtype: int64"
      ]
     },
     "execution_count": 42,
     "metadata": {},
     "output_type": "execute_result"
    }
   ],
   "source": [
    "bike_data_w_delta.duration.dt.days.head(2) #Rounded down to closest day"
   ]
  },
  {
   "cell_type": "markdown",
   "metadata": {},
   "source": [
    "## <font color=\"red\"> Exercise 3.2.2 </font>\n",
    "\n",
    "Further explore the `dt` methods for the `timedelta` dtype using `dir` and `help`.  Report on what you learned."
   ]
  },
  {
   "cell_type": "code",
   "execution_count": 61,
   "metadata": {},
   "outputs": [
    {
     "data": {
      "text/plain": [
       "['ceil',\n",
       " 'components',\n",
       " 'days',\n",
       " 'floor',\n",
       " 'freq',\n",
       " 'microseconds',\n",
       " 'nanoseconds',\n",
       " 'round',\n",
       " 'seconds',\n",
       " 'to_pytimedelta',\n",
       " 'total_seconds']"
      ]
     },
     "execution_count": 61,
     "metadata": {},
     "output_type": "execute_result"
    }
   ],
   "source": [
    "[m for m in dir(bike_data_w_delta.duration.dt) if not m.startswith('_')]"
   ]
  },
  {
   "cell_type": "code",
   "execution_count": 62,
   "metadata": {},
   "outputs": [
    {
     "name": "stdout",
     "output_type": "stream",
     "text": [
      "Help on TimedeltaProperties in module pandas.core.indexes.accessors object:\n",
      "\n",
      "class TimedeltaProperties(Properties)\n",
      " |  TimedeltaProperties(data: 'Series', orig)\n",
      " |  \n",
      " |  Accessor object for datetimelike properties of the Series values.\n",
      " |  \n",
      " |  Returns a Series indexed like the original Series.\n",
      " |  Raises TypeError if the Series does not contain datetimelike values.\n",
      " |  \n",
      " |  Examples\n",
      " |  --------\n",
      " |  >>> seconds_series = pd.Series(\n",
      " |  ...     pd.timedelta_range(start=\"1 second\", periods=3, freq=\"S\")\n",
      " |  ... )\n",
      " |  >>> seconds_series\n",
      " |  0   0 days 00:00:01\n",
      " |  1   0 days 00:00:02\n",
      " |  2   0 days 00:00:03\n",
      " |  dtype: timedelta64[ns]\n",
      " |  >>> seconds_series.dt.seconds\n",
      " |  0    1\n",
      " |  1    2\n",
      " |  2    3\n",
      " |  dtype: int64\n",
      " |  \n",
      " |  Method resolution order:\n",
      " |      TimedeltaProperties\n",
      " |      Properties\n",
      " |      pandas.core.accessor.PandasDelegate\n",
      " |      pandas.core.base.PandasObject\n",
      " |      pandas.core.accessor.DirNamesMixin\n",
      " |      pandas.core.base.NoNewAttributesMixin\n",
      " |      builtins.object\n",
      " |  \n",
      " |  Methods defined here:\n",
      " |  \n",
      " |  ceil(self, *args, **kwargs)\n",
      " |      Perform ceil operation on the data to the specified `freq`.\n",
      " |      \n",
      " |      Parameters\n",
      " |      ----------\n",
      " |      freq : str or Offset\n",
      " |          The frequency level to ceil the index to. Must be a fixed\n",
      " |          frequency like 'S' (second) not 'ME' (month end). See\n",
      " |          :ref:`frequency aliases <timeseries.offset_aliases>` for\n",
      " |          a list of possible `freq` values.\n",
      " |      ambiguous : 'infer', bool-ndarray, 'NaT', default 'raise'\n",
      " |          Only relevant for DatetimeIndex:\n",
      " |      \n",
      " |          - 'infer' will attempt to infer fall dst-transition hours based on\n",
      " |            order\n",
      " |          - bool-ndarray where True signifies a DST time, False designates\n",
      " |            a non-DST time (note that this flag is only applicable for\n",
      " |            ambiguous times)\n",
      " |          - 'NaT' will return NaT where there are ambiguous times\n",
      " |          - 'raise' will raise an AmbiguousTimeError if there are ambiguous\n",
      " |            times.\n",
      " |      \n",
      " |          .. versionadded:: 0.24.0\n",
      " |      \n",
      " |      nonexistent : 'shift_forward', 'shift_backward', 'NaT', timedelta, default 'raise'\n",
      " |          A nonexistent time does not exist in a particular timezone\n",
      " |          where clocks moved forward due to DST.\n",
      " |      \n",
      " |          - 'shift_forward' will shift the nonexistent time forward to the\n",
      " |            closest existing time\n",
      " |          - 'shift_backward' will shift the nonexistent time backward to the\n",
      " |            closest existing time\n",
      " |          - 'NaT' will return NaT where there are nonexistent times\n",
      " |          - timedelta objects will shift nonexistent times by the timedelta\n",
      " |          - 'raise' will raise an NonExistentTimeError if there are\n",
      " |            nonexistent times.\n",
      " |      \n",
      " |          .. versionadded:: 0.24.0\n",
      " |      \n",
      " |      Returns\n",
      " |      -------\n",
      " |      DatetimeIndex, TimedeltaIndex, or Series\n",
      " |          Index of the same type for a DatetimeIndex or TimedeltaIndex,\n",
      " |          or a Series with the same index for a Series.\n",
      " |      \n",
      " |      Raises\n",
      " |      ------\n",
      " |      ValueError if the `freq` cannot be converted.\n",
      " |      \n",
      " |      Examples\n",
      " |      --------\n",
      " |      **DatetimeIndex**\n",
      " |      \n",
      " |      >>> rng = pd.date_range('1/1/2018 11:59:00', periods=3, freq='min')\n",
      " |      >>> rng\n",
      " |      DatetimeIndex(['2018-01-01 11:59:00', '2018-01-01 12:00:00',\n",
      " |                     '2018-01-01 12:01:00'],\n",
      " |                    dtype='datetime64[ns]', freq='T')\n",
      " |      >>> rng.ceil('H')\n",
      " |      DatetimeIndex(['2018-01-01 12:00:00', '2018-01-01 12:00:00',\n",
      " |                     '2018-01-01 13:00:00'],\n",
      " |                    dtype='datetime64[ns]', freq=None)\n",
      " |      \n",
      " |      **Series**\n",
      " |      \n",
      " |      >>> pd.Series(rng).dt.ceil(\"H\")\n",
      " |      0   2018-01-01 12:00:00\n",
      " |      1   2018-01-01 12:00:00\n",
      " |      2   2018-01-01 13:00:00\n",
      " |      dtype: datetime64[ns]\n",
      " |  \n",
      " |  floor(self, *args, **kwargs)\n",
      " |      Perform floor operation on the data to the specified `freq`.\n",
      " |      \n",
      " |      Parameters\n",
      " |      ----------\n",
      " |      freq : str or Offset\n",
      " |          The frequency level to floor the index to. Must be a fixed\n",
      " |          frequency like 'S' (second) not 'ME' (month end). See\n",
      " |          :ref:`frequency aliases <timeseries.offset_aliases>` for\n",
      " |          a list of possible `freq` values.\n",
      " |      ambiguous : 'infer', bool-ndarray, 'NaT', default 'raise'\n",
      " |          Only relevant for DatetimeIndex:\n",
      " |      \n",
      " |          - 'infer' will attempt to infer fall dst-transition hours based on\n",
      " |            order\n",
      " |          - bool-ndarray where True signifies a DST time, False designates\n",
      " |            a non-DST time (note that this flag is only applicable for\n",
      " |            ambiguous times)\n",
      " |          - 'NaT' will return NaT where there are ambiguous times\n",
      " |          - 'raise' will raise an AmbiguousTimeError if there are ambiguous\n",
      " |            times.\n",
      " |      \n",
      " |          .. versionadded:: 0.24.0\n",
      " |      \n",
      " |      nonexistent : 'shift_forward', 'shift_backward', 'NaT', timedelta, default 'raise'\n",
      " |          A nonexistent time does not exist in a particular timezone\n",
      " |          where clocks moved forward due to DST.\n",
      " |      \n",
      " |          - 'shift_forward' will shift the nonexistent time forward to the\n",
      " |            closest existing time\n",
      " |          - 'shift_backward' will shift the nonexistent time backward to the\n",
      " |            closest existing time\n",
      " |          - 'NaT' will return NaT where there are nonexistent times\n",
      " |          - timedelta objects will shift nonexistent times by the timedelta\n",
      " |          - 'raise' will raise an NonExistentTimeError if there are\n",
      " |            nonexistent times.\n",
      " |      \n",
      " |          .. versionadded:: 0.24.0\n",
      " |      \n",
      " |      Returns\n",
      " |      -------\n",
      " |      DatetimeIndex, TimedeltaIndex, or Series\n",
      " |          Index of the same type for a DatetimeIndex or TimedeltaIndex,\n",
      " |          or a Series with the same index for a Series.\n",
      " |      \n",
      " |      Raises\n",
      " |      ------\n",
      " |      ValueError if the `freq` cannot be converted.\n",
      " |      \n",
      " |      Examples\n",
      " |      --------\n",
      " |      **DatetimeIndex**\n",
      " |      \n",
      " |      >>> rng = pd.date_range('1/1/2018 11:59:00', periods=3, freq='min')\n",
      " |      >>> rng\n",
      " |      DatetimeIndex(['2018-01-01 11:59:00', '2018-01-01 12:00:00',\n",
      " |                     '2018-01-01 12:01:00'],\n",
      " |                    dtype='datetime64[ns]', freq='T')\n",
      " |      >>> rng.floor('H')\n",
      " |      DatetimeIndex(['2018-01-01 11:00:00', '2018-01-01 12:00:00',\n",
      " |                     '2018-01-01 12:00:00'],\n",
      " |                    dtype='datetime64[ns]', freq=None)\n",
      " |      \n",
      " |      **Series**\n",
      " |      \n",
      " |      >>> pd.Series(rng).dt.floor(\"H\")\n",
      " |      0   2018-01-01 11:00:00\n",
      " |      1   2018-01-01 12:00:00\n",
      " |      2   2018-01-01 12:00:00\n",
      " |      dtype: datetime64[ns]\n",
      " |  \n",
      " |  round(self, *args, **kwargs)\n",
      " |      Perform round operation on the data to the specified `freq`.\n",
      " |      \n",
      " |      Parameters\n",
      " |      ----------\n",
      " |      freq : str or Offset\n",
      " |          The frequency level to round the index to. Must be a fixed\n",
      " |          frequency like 'S' (second) not 'ME' (month end). See\n",
      " |          :ref:`frequency aliases <timeseries.offset_aliases>` for\n",
      " |          a list of possible `freq` values.\n",
      " |      ambiguous : 'infer', bool-ndarray, 'NaT', default 'raise'\n",
      " |          Only relevant for DatetimeIndex:\n",
      " |      \n",
      " |          - 'infer' will attempt to infer fall dst-transition hours based on\n",
      " |            order\n",
      " |          - bool-ndarray where True signifies a DST time, False designates\n",
      " |            a non-DST time (note that this flag is only applicable for\n",
      " |            ambiguous times)\n",
      " |          - 'NaT' will return NaT where there are ambiguous times\n",
      " |          - 'raise' will raise an AmbiguousTimeError if there are ambiguous\n",
      " |            times.\n",
      " |      \n",
      " |          .. versionadded:: 0.24.0\n",
      " |      \n",
      " |      nonexistent : 'shift_forward', 'shift_backward', 'NaT', timedelta, default 'raise'\n",
      " |          A nonexistent time does not exist in a particular timezone\n",
      " |          where clocks moved forward due to DST.\n",
      " |      \n",
      " |          - 'shift_forward' will shift the nonexistent time forward to the\n",
      " |            closest existing time\n",
      " |          - 'shift_backward' will shift the nonexistent time backward to the\n",
      " |            closest existing time\n",
      " |          - 'NaT' will return NaT where there are nonexistent times\n",
      " |          - timedelta objects will shift nonexistent times by the timedelta\n",
      " |          - 'raise' will raise an NonExistentTimeError if there are\n",
      " |            nonexistent times.\n",
      " |      \n",
      " |          .. versionadded:: 0.24.0\n",
      " |      \n",
      " |      Returns\n",
      " |      -------\n",
      " |      DatetimeIndex, TimedeltaIndex, or Series\n",
      " |          Index of the same type for a DatetimeIndex or TimedeltaIndex,\n",
      " |          or a Series with the same index for a Series.\n",
      " |      \n",
      " |      Raises\n",
      " |      ------\n",
      " |      ValueError if the `freq` cannot be converted.\n",
      " |      \n",
      " |      Examples\n",
      " |      --------\n",
      " |      **DatetimeIndex**\n",
      " |      \n",
      " |      >>> rng = pd.date_range('1/1/2018 11:59:00', periods=3, freq='min')\n",
      " |      >>> rng\n",
      " |      DatetimeIndex(['2018-01-01 11:59:00', '2018-01-01 12:00:00',\n",
      " |                     '2018-01-01 12:01:00'],\n",
      " |                    dtype='datetime64[ns]', freq='T')\n",
      " |      >>> rng.round('H')\n",
      " |      DatetimeIndex(['2018-01-01 12:00:00', '2018-01-01 12:00:00',\n",
      " |                     '2018-01-01 12:00:00'],\n",
      " |                    dtype='datetime64[ns]', freq=None)\n",
      " |      \n",
      " |      **Series**\n",
      " |      \n",
      " |      >>> pd.Series(rng).dt.round(\"H\")\n",
      " |      0   2018-01-01 12:00:00\n",
      " |      1   2018-01-01 12:00:00\n",
      " |      2   2018-01-01 12:00:00\n",
      " |      dtype: datetime64[ns]\n",
      " |  \n",
      " |  to_pytimedelta(self) -> numpy.ndarray\n",
      " |      Return an array of native `datetime.timedelta` objects.\n",
      " |      \n",
      " |      Python's standard `datetime` library uses a different representation\n",
      " |      timedelta's. This method converts a Series of pandas Timedeltas\n",
      " |      to `datetime.timedelta` format with the same length as the original\n",
      " |      Series.\n",
      " |      \n",
      " |      Returns\n",
      " |      -------\n",
      " |      numpy.ndarray\n",
      " |          Array of 1D containing data with `datetime.timedelta` type.\n",
      " |      \n",
      " |      See Also\n",
      " |      --------\n",
      " |      datetime.timedelta : A duration expressing the difference\n",
      " |          between two date, time, or datetime.\n",
      " |      \n",
      " |      Examples\n",
      " |      --------\n",
      " |      >>> s = pd.Series(pd.to_timedelta(np.arange(5), unit=\"d\"))\n",
      " |      >>> s\n",
      " |      0   0 days\n",
      " |      1   1 days\n",
      " |      2   2 days\n",
      " |      3   3 days\n",
      " |      4   4 days\n",
      " |      dtype: timedelta64[ns]\n",
      " |      \n",
      " |      >>> s.dt.to_pytimedelta()\n",
      " |      array([datetime.timedelta(0), datetime.timedelta(days=1),\n",
      " |      datetime.timedelta(days=2), datetime.timedelta(days=3),\n",
      " |      datetime.timedelta(days=4)], dtype=object)\n",
      " |  \n",
      " |  total_seconds(self, *args, **kwargs)\n",
      " |      Return total duration of each element expressed in seconds.\n",
      " |      \n",
      " |      This method is available directly on TimedeltaArray, TimedeltaIndex\n",
      " |      and on Series containing timedelta values under the ``.dt`` namespace.\n",
      " |      \n",
      " |      Returns\n",
      " |      -------\n",
      " |      seconds : [ndarray, Float64Index, Series]\n",
      " |          When the calling object is a TimedeltaArray, the return type\n",
      " |          is ndarray.  When the calling object is a TimedeltaIndex,\n",
      " |          the return type is a Float64Index. When the calling object\n",
      " |          is a Series, the return type is Series of type `float64` whose\n",
      " |          index is the same as the original.\n",
      " |      \n",
      " |      See Also\n",
      " |      --------\n",
      " |      datetime.timedelta.total_seconds : Standard library version\n",
      " |          of this method.\n",
      " |      TimedeltaIndex.components : Return a DataFrame with components of\n",
      " |          each Timedelta.\n",
      " |      \n",
      " |      Examples\n",
      " |      --------\n",
      " |      **Series**\n",
      " |      \n",
      " |      >>> s = pd.Series(pd.to_timedelta(np.arange(5), unit='d'))\n",
      " |      >>> s\n",
      " |      0   0 days\n",
      " |      1   1 days\n",
      " |      2   2 days\n",
      " |      3   3 days\n",
      " |      4   4 days\n",
      " |      dtype: timedelta64[ns]\n",
      " |      \n",
      " |      >>> s.dt.total_seconds()\n",
      " |      0         0.0\n",
      " |      1     86400.0\n",
      " |      2    172800.0\n",
      " |      3    259200.0\n",
      " |      4    345600.0\n",
      " |      dtype: float64\n",
      " |      \n",
      " |      **TimedeltaIndex**\n",
      " |      \n",
      " |      >>> idx = pd.to_timedelta(np.arange(5), unit='d')\n",
      " |      >>> idx\n",
      " |      TimedeltaIndex(['0 days', '1 days', '2 days', '3 days', '4 days'],\n",
      " |                     dtype='timedelta64[ns]', freq=None)\n",
      " |      \n",
      " |      >>> idx.total_seconds()\n",
      " |      Float64Index([0.0, 86400.0, 172800.0, 259200.00000000003, 345600.0],\n",
      " |                   dtype='float64')\n",
      " |  \n",
      " |  ----------------------------------------------------------------------\n",
      " |  Readonly properties defined here:\n",
      " |  \n",
      " |  components\n",
      " |      Return a Dataframe of the components of the Timedeltas.\n",
      " |      \n",
      " |      Returns\n",
      " |      -------\n",
      " |      DataFrame\n",
      " |      \n",
      " |      Examples\n",
      " |      --------\n",
      " |      >>> s = pd.Series(pd.to_timedelta(np.arange(5), unit='s'))\n",
      " |      >>> s\n",
      " |      0   0 days 00:00:00\n",
      " |      1   0 days 00:00:01\n",
      " |      2   0 days 00:00:02\n",
      " |      3   0 days 00:00:03\n",
      " |      4   0 days 00:00:04\n",
      " |      dtype: timedelta64[ns]\n",
      " |      >>> s.dt.components\n",
      " |         days  hours  minutes  seconds  milliseconds  microseconds  nanoseconds\n",
      " |      0     0      0        0        0             0             0            0\n",
      " |      1     0      0        0        1             0             0            0\n",
      " |      2     0      0        0        2             0             0            0\n",
      " |      3     0      0        0        3             0             0            0\n",
      " |      4     0      0        0        4             0             0            0\n",
      " |  \n",
      " |  freq\n",
      " |  \n",
      " |  ----------------------------------------------------------------------\n",
      " |  Data descriptors defined here:\n",
      " |  \n",
      " |  days\n",
      " |      Number of days for each element.\n",
      " |  \n",
      " |  microseconds\n",
      " |      Number of microseconds (>= 0 and less than 1 second) for each element.\n",
      " |  \n",
      " |  nanoseconds\n",
      " |      Number of nanoseconds (>= 0 and less than 1 microsecond) for each element.\n",
      " |  \n",
      " |  seconds\n",
      " |      Number of seconds (>= 0 and less than 1 day) for each element.\n",
      " |  \n",
      " |  ----------------------------------------------------------------------\n",
      " |  Methods inherited from Properties:\n",
      " |  \n",
      " |  __init__(self, data: 'Series', orig)\n",
      " |      Initialize self.  See help(type(self)) for accurate signature.\n",
      " |  \n",
      " |  ----------------------------------------------------------------------\n",
      " |  Data descriptors inherited from pandas.core.accessor.PandasDelegate:\n",
      " |  \n",
      " |  __dict__\n",
      " |      dictionary for instance variables (if defined)\n",
      " |  \n",
      " |  __weakref__\n",
      " |      list of weak references to the object (if defined)\n",
      " |  \n",
      " |  ----------------------------------------------------------------------\n",
      " |  Methods inherited from pandas.core.base.PandasObject:\n",
      " |  \n",
      " |  __repr__(self) -> str\n",
      " |      Return a string representation for a particular object.\n",
      " |  \n",
      " |  __sizeof__(self)\n",
      " |      Generates the total memory usage for an object that returns\n",
      " |      either a value or Series of values\n",
      " |  \n",
      " |  ----------------------------------------------------------------------\n",
      " |  Data and other attributes inherited from pandas.core.base.PandasObject:\n",
      " |  \n",
      " |  __annotations__ = {'_cache': typing.Dict[str, typing.Any]}\n",
      " |  \n",
      " |  ----------------------------------------------------------------------\n",
      " |  Methods inherited from pandas.core.accessor.DirNamesMixin:\n",
      " |  \n",
      " |  __dir__(self) -> List[str]\n",
      " |      Provide method name lookup and completion.\n",
      " |      \n",
      " |      Notes\n",
      " |      -----\n",
      " |      Only provide 'public' methods.\n",
      " |  \n",
      " |  ----------------------------------------------------------------------\n",
      " |  Methods inherited from pandas.core.base.NoNewAttributesMixin:\n",
      " |  \n",
      " |  __setattr__(self, key: str, value)\n",
      " |      Implement setattr(self, name, value).\n",
      "\n"
     ]
    }
   ],
   "source": [
    "help(bike_data_w_delta.duration.dt)"
   ]
  },
  {
   "cell_type": "markdown",
   "metadata": {},
   "source": [
    "- There are many useful timedelta methods that we can use: \n",
    "    + Convert to: second, microsecond, days,...\n",
    "    + Round, ceiling, floor of the value\n",
    "    + Check the components\n",
    "    + Convert to pytimedelta"
   ]
  },
  {
   "cell_type": "markdown",
   "metadata": {},
   "source": [
    "## Example -- Plotting the trip duration by weekday"
   ]
  },
  {
   "cell_type": "code",
   "execution_count": 44,
   "metadata": {},
   "outputs": [
    {
     "data": {
      "text/html": [
       "<div>\n",
       "<style scoped>\n",
       "    .dataframe tbody tr th:only-of-type {\n",
       "        vertical-align: middle;\n",
       "    }\n",
       "\n",
       "    .dataframe tbody tr th {\n",
       "        vertical-align: top;\n",
       "    }\n",
       "\n",
       "    .dataframe thead th {\n",
       "        text-align: right;\n",
       "    }\n",
       "</style>\n",
       "<table border=\"1\" class=\"dataframe\">\n",
       "  <thead>\n",
       "    <tr style=\"text-align: right;\">\n",
       "      <th></th>\n",
       "      <th>day_of_week</th>\n",
       "      <th>duration_in_min</th>\n",
       "    </tr>\n",
       "  </thead>\n",
       "  <tbody>\n",
       "    <tr>\n",
       "      <th>0</th>\n",
       "      <td>Thursday</td>\n",
       "      <td>8.600000</td>\n",
       "    </tr>\n",
       "    <tr>\n",
       "      <th>1</th>\n",
       "      <td>Thursday</td>\n",
       "      <td>8.333333</td>\n",
       "    </tr>\n",
       "  </tbody>\n",
       "</table>\n",
       "</div>"
      ],
      "text/plain": [
       "  day_of_week  duration_in_min\n",
       "0    Thursday         8.600000\n",
       "1    Thursday         8.333333"
      ]
     },
     "execution_count": 44,
     "metadata": {},
     "output_type": "execute_result"
    }
   ],
   "source": [
    "from calendar import day_name\n",
    "\n",
    "weekday_categories = pd.CategoricalDtype(categories=list(day_name),\n",
    "                                     ordered=True)\n",
    "\n",
    "day_and_duration = (bike_data_w_delta\n",
    "                    >> mutate(day_of_week = X.started_at.dt.day_name().astype(weekday_categories),\n",
    "                              duration_in_min = X.duration.dt.seconds/60)\n",
    "                    >> select('day_of_week', 'duration_in_min')\n",
    "                   )\n",
    "day_and_duration.head(2)"
   ]
  },
  {
   "cell_type": "code",
   "execution_count": 67,
   "metadata": {
    "scrolled": true
   },
   "outputs": [
    {
     "data": {
      "text/plain": [
       "<AxesSubplot:xlabel='day_of_week', ylabel='duration_in_min'>"
      ]
     },
     "execution_count": 67,
     "metadata": {},
     "output_type": "execute_result"
    },
    {
     "data": {
      "image/png": "[encoded data removed]",
      "text/plain": [
       "<Figure size 432x288 with 1 Axes>"
      ]
     },
     "metadata": {
      "needs_background": "light"
     },
     "output_type": "display_data"
    }
   ],
   "source": [
    "import seaborn as sns\n",
    "\n",
    "sns.boxplot(data = day_and_duration,\n",
    "            x = 'day_of_week',\n",
    "            y = 'duration_in_min')"
   ]
  },
  {
   "cell_type": "markdown",
   "metadata": {},
   "source": [
    "## <font color=\"red\"> Exercise 3.2.3 </font>\n",
    "\n",
    "Suppose that we define a *short trip* as one that lasts less then 1 hour.  Recreate the last visualization, but this time restricting the data to short trips."
   ]
  },
  {
   "cell_type": "code",
   "execution_count": 66,
   "metadata": {},
   "outputs": [
    {
     "data": {
      "text/plain": [
       "<AxesSubplot:xlabel='day_of_week', ylabel='duration_in_min'>"
      ]
     },
     "execution_count": 66,
     "metadata": {},
     "output_type": "execute_result"
    },
    {
     "data": {
      "image/png": "[encoded data removed]",
      "text/plain": [
       "<Figure size 432x288 with 1 Axes>"
      ]
     },
     "metadata": {
      "needs_background": "light"
     },
     "output_type": "display_data"
    }
   ],
   "source": [
    "# Your code here\n",
    "import seaborn as sns\n",
    "\n",
    "sns.boxplot(data = day_and_duration [day_and_duration.duration_in_min < 60],\n",
    "            x = 'day_of_week',\n",
    "            y = 'duration_in_min')\n"
   ]
  },
  {
   "cell_type": "markdown",
   "metadata": {},
   "source": [
    "## Classifying days as business day, holiday, or weekend.\n",
    "\n",
    "For data such as the Uber data, it would be interesting to compare the number of rides depending on if the day was a business/work day, holiday, or on the weekend.  We can use the `workalendar` library to add in classifying the days,"
   ]
  },
  {
   "cell_type": "code",
   "execution_count": 47,
   "metadata": {},
   "outputs": [
    {
     "name": "stdout",
     "output_type": "stream",
     "text": [
      "Collecting workalendar\n",
      "  Downloading workalendar-16.4.0-py3-none-any.whl (208 kB)\n",
      "Requirement already satisfied: backports.zoneinfo in c:\\users\\dg8310ea\\anaconda3\\lib\\site-packages (from workalendar) (0.2.1)\n",
      "Collecting convertdate\n",
      "  Downloading convertdate-2.4.0-py3-none-any.whl (47 kB)\n",
      "Collecting lunardate\n",
      "  Downloading lunardate-0.2.0-py3-none-any.whl (5.6 kB)\n",
      "Requirement already satisfied: tzdata in c:\\users\\dg8310ea\\anaconda3\\lib\\site-packages (from workalendar) (2022.2)\n",
      "Requirement already satisfied: python-dateutil in c:\\users\\dg8310ea\\anaconda3\\lib\\site-packages (from workalendar) (2.8.1)\n",
      "Collecting pyluach\n",
      "  Downloading pyluach-2.0.1-py3-none-any.whl (22 kB)\n",
      "Collecting pymeeus<=1,>=0.3.13\n",
      "  Downloading PyMeeus-0.5.11.tar.gz (5.4 MB)\n",
      "Requirement already satisfied: six>=1.5 in c:\\users\\dg8310ea\\anaconda3\\lib\\site-packages (from python-dateutil->workalendar) (1.15.0)\n",
      "Building wheels for collected packages: pymeeus\n",
      "  Building wheel for pymeeus (setup.py): started\n",
      "  Building wheel for pymeeus (setup.py): finished with status 'done'\n",
      "  Created wheel for pymeeus: filename=PyMeeus-0.5.11-py3-none-any.whl size=730973 sha256=16535ff2d69a5a908ff40281c217ce15396e39b33663eee30b64bc6477eb6abe\n",
      "  Stored in directory: c:\\users\\dg8310ea\\appdata\\local\\pip\\cache\\wheels\\a0\\8b\\b2\\810ae5a6f970c8be4725353400d643c90de1c0f023a9884ee7\n",
      "Successfully built pymeeus\n",
      "Installing collected packages: pymeeus, pyluach, lunardate, convertdate, workalendar\n",
      "Successfully installed convertdate-2.4.0 lunardate-0.2.0 pyluach-2.0.1 pymeeus-0.5.11 workalendar-16.4.0\n"
     ]
    }
   ],
   "source": [
    "!pip install workalendar"
   ]
  },
  {
   "cell_type": "code",
   "execution_count": 48,
   "metadata": {},
   "outputs": [],
   "source": [
    "from datetime import date\n",
    "from workalendar.usa import NewYork\n",
    "cal = NewYork()"
   ]
  },
  {
   "cell_type": "markdown",
   "metadata": {},
   "source": [
    "#### Getting the dates of all holidays in 2014"
   ]
  },
  {
   "cell_type": "code",
   "execution_count": 49,
   "metadata": {
    "scrolled": true
   },
   "outputs": [
    {
     "data": {
      "text/plain": [
       "[(datetime.date(2014, 1, 1), 'New year'),\n",
       " (datetime.date(2014, 1, 20), 'Birthday of Martin Luther King, Jr.'),\n",
       " (datetime.date(2014, 2, 12), \"Lincoln's Birthday\"),\n",
       " (datetime.date(2014, 2, 17), \"Washington's Birthday\"),\n",
       " (datetime.date(2014, 5, 26), 'Memorial Day'),\n",
       " (datetime.date(2014, 7, 4), 'Independence Day'),\n",
       " (datetime.date(2014, 9, 1), 'Labor Day'),\n",
       " (datetime.date(2014, 10, 13), 'Columbus Day'),\n",
       " (datetime.date(2014, 11, 4), 'Election Day'),\n",
       " (datetime.date(2014, 11, 11), 'Veterans Day'),\n",
       " (datetime.date(2014, 11, 27), 'Thanksgiving Day'),\n",
       " (datetime.date(2014, 12, 25), 'Christmas Day')]"
      ]
     },
     "execution_count": 49,
     "metadata": {},
     "output_type": "execute_result"
    }
   ],
   "source": [
    "cal.holidays(2014)"
   ]
  },
  {
   "cell_type": "markdown",
   "metadata": {},
   "source": [
    "#### Checking for holidays or work days"
   ]
  },
  {
   "cell_type": "code",
   "execution_count": 50,
   "metadata": {},
   "outputs": [
    {
     "data": {
      "text/plain": [
       "False"
      ]
     },
     "execution_count": 50,
     "metadata": {},
     "output_type": "execute_result"
    }
   ],
   "source": [
    "cal.is_holiday(date(2014, 4, 1))"
   ]
  },
  {
   "cell_type": "code",
   "execution_count": 51,
   "metadata": {},
   "outputs": [
    {
     "data": {
      "text/plain": [
       "True"
      ]
     },
     "execution_count": 51,
     "metadata": {},
     "output_type": "execute_result"
    }
   ],
   "source": [
    "cal.is_working_day(date(2014,4,1))"
   ]
  },
  {
   "cell_type": "markdown",
   "metadata": {},
   "source": [
    "#### Making a classification function"
   ]
  },
  {
   "cell_type": "code",
   "execution_count": 52,
   "metadata": {},
   "outputs": [
    {
     "data": {
      "text/plain": [
       "0    Work Day\n",
       "1    Work Day\n",
       "Name: date, dtype: object"
      ]
     },
     "execution_count": 52,
     "metadata": {},
     "output_type": "execute_result"
    }
   ],
   "source": [
    "classify_day = lambda d: \"Holiday\" if cal.is_holiday(d) else \"Work Day\" if cal.is_working_day(d) else \"Weekend\"\n",
    "uber_april.date.apply(classify_day).head(2)"
   ]
  },
  {
   "cell_type": "code",
   "execution_count": 69,
   "metadata": {
    "scrolled": true
   },
   "outputs": [
    {
     "data": {
      "text/html": [
       "<div>\n",
       "<style scoped>\n",
       "    .dataframe tbody tr th:only-of-type {\n",
       "        vertical-align: middle;\n",
       "    }\n",
       "\n",
       "    .dataframe tbody tr th {\n",
       "        vertical-align: top;\n",
       "    }\n",
       "\n",
       "    .dataframe thead th {\n",
       "        text-align: right;\n",
       "    }\n",
       "</style>\n",
       "<table border=\"1\" class=\"dataframe\">\n",
       "  <thead>\n",
       "    <tr style=\"text-align: right;\">\n",
       "      <th></th>\n",
       "      <th>date</th>\n",
       "      <th>day_type</th>\n",
       "      <th>count</th>\n",
       "    </tr>\n",
       "  </thead>\n",
       "  <tbody>\n",
       "    <tr>\n",
       "      <th>0</th>\n",
       "      <td>2014-04-05 00:00:00</td>\n",
       "      <td>Weekend</td>\n",
       "      <td>1</td>\n",
       "    </tr>\n",
       "    <tr>\n",
       "      <th>1</th>\n",
       "      <td>2014-04-05 00:01:00</td>\n",
       "      <td>Weekend</td>\n",
       "      <td>1</td>\n",
       "    </tr>\n",
       "    <tr>\n",
       "      <th>2</th>\n",
       "      <td>2014-04-05 00:02:00</td>\n",
       "      <td>Weekend</td>\n",
       "      <td>9</td>\n",
       "    </tr>\n",
       "    <tr>\n",
       "      <th>3</th>\n",
       "      <td>2014-04-05 00:04:00</td>\n",
       "      <td>Weekend</td>\n",
       "      <td>3</td>\n",
       "    </tr>\n",
       "    <tr>\n",
       "      <th>4</th>\n",
       "      <td>2014-04-05 00:05:00</td>\n",
       "      <td>Weekend</td>\n",
       "      <td>4</td>\n",
       "    </tr>\n",
       "    <tr>\n",
       "      <th>...</th>\n",
       "      <td>...</td>\n",
       "      <td>...</td>\n",
       "      <td>...</td>\n",
       "    </tr>\n",
       "    <tr>\n",
       "      <th>33259</th>\n",
       "      <td>2014-04-30 23:53:00</td>\n",
       "      <td>Work Day</td>\n",
       "      <td>1</td>\n",
       "    </tr>\n",
       "    <tr>\n",
       "      <th>33260</th>\n",
       "      <td>2014-04-30 23:54:00</td>\n",
       "      <td>Work Day</td>\n",
       "      <td>2</td>\n",
       "    </tr>\n",
       "    <tr>\n",
       "      <th>33261</th>\n",
       "      <td>2014-04-30 23:55:00</td>\n",
       "      <td>Work Day</td>\n",
       "      <td>6</td>\n",
       "    </tr>\n",
       "    <tr>\n",
       "      <th>33262</th>\n",
       "      <td>2014-04-30 23:56:00</td>\n",
       "      <td>Work Day</td>\n",
       "      <td>3</td>\n",
       "    </tr>\n",
       "    <tr>\n",
       "      <th>33263</th>\n",
       "      <td>2014-04-30 23:57:00</td>\n",
       "      <td>Work Day</td>\n",
       "      <td>3</td>\n",
       "    </tr>\n",
       "  </tbody>\n",
       "</table>\n",
       "<p>33264 rows × 3 columns</p>\n",
       "</div>"
      ],
      "text/plain": [
       "                     date  day_type  count\n",
       "0     2014-04-05 00:00:00   Weekend      1\n",
       "1     2014-04-05 00:01:00   Weekend      1\n",
       "2     2014-04-05 00:02:00   Weekend      9\n",
       "3     2014-04-05 00:04:00   Weekend      3\n",
       "4     2014-04-05 00:05:00   Weekend      4\n",
       "...                   ...       ...    ...\n",
       "33259 2014-04-30 23:53:00  Work Day      1\n",
       "33260 2014-04-30 23:54:00  Work Day      2\n",
       "33261 2014-04-30 23:55:00  Work Day      6\n",
       "33262 2014-04-30 23:56:00  Work Day      3\n",
       "33263 2014-04-30 23:57:00  Work Day      3\n",
       "\n",
       "[33264 rows x 3 columns]"
      ]
     },
     "execution_count": 69,
     "metadata": {},
     "output_type": "execute_result"
    }
   ],
   "source": [
    "(uber_april\n",
    " >> mutate(day_type = X.date.apply(classify_day))\n",
    " >> group_by('day_type', 'date')\n",
    " >> summarise(count = n(X.date))\n",
    ")"
   ]
  },
  {
   "cell_type": "markdown",
   "metadata": {},
   "source": [
    "## <font color=\"red\"> Exercise 3.2.4 </font>\n",
    "\n",
    "Further explore the relationship between of number of rides and the type of day by\n",
    "\n",
    "1. Plotting the total number of rides for each type of day.\n",
    "2. Plotting the average number of rides for each type of day.\n",
    "3. Discussing which of the plots leads to a more fair comparison.\n",
    "\n",
    "**Hint.** You will need to perform one or more grouped aggregation."
   ]
  },
  {
   "cell_type": "code",
   "execution_count": 79,
   "metadata": {},
   "outputs": [
    {
     "data": {
      "text/plain": [
       "<AxesSubplot:xlabel='day_type'>"
      ]
     },
     "execution_count": 79,
     "metadata": {},
     "output_type": "execute_result"
    },
    {
     "data": {
      "image/png": "[encoded data removed]",
      "text/plain": [
       "<Figure size 432x288 with 1 Axes>"
      ]
     },
     "metadata": {
      "needs_background": "light"
     },
     "output_type": "display_data"
    }
   ],
   "source": [
    "# Your code for plot 1 here\n",
    "uber_summary = (uber_april\n",
    " >> mutate(day_type = X.date.apply(classify_day))\n",
    " >> group_by('day_type', 'date')\n",
    " >> summarise(count = n(X.date))\n",
    ")\n",
    "uber_summary.groupby('day_type').sum().plot(kind = 'bar')\n"
   ]
  },
  {
   "cell_type": "code",
   "execution_count": 81,
   "metadata": {},
   "outputs": [
    {
     "data": {
      "text/plain": [
       "<AxesSubplot:xlabel='day_type'>"
      ]
     },
     "execution_count": 81,
     "metadata": {},
     "output_type": "execute_result"
    },
    {
     "data": {
      "image/png": "[encoded data removed]",
      "text/plain": [
       "<Figure size 432x288 with 1 Axes>"
      ]
     },
     "metadata": {
      "needs_background": "light"
     },
     "output_type": "display_data"
    }
   ],
   "source": [
    "# Your code for plot 2 here\n",
    "uber_summary.groupby('day_type').mean().plot(kind = 'bar')"
   ]
  },
  {
   "cell_type": "markdown",
   "metadata": {},
   "source": [
    "Plot #2 Average number shows a fair comparison because there are more work days than weekend days (5 vs 2) so we should use average."
   ]
  },
  {
   "cell_type": "markdown",
   "metadata": {},
   "source": [
    "# Pandas specific date tricks\n",
    "\n",
    "`pandas` has rich set of functions for working with dates, which includes\n",
    "\n",
    "* `Series` types of ranges of dates.\n",
    "* Date offset objects, including finding the next business day, holiday, extra.\n",
    "* The ability to index, slice, and resample time series data.\n",
    "\n",
    "Details can be found [in the pandas documentation on working with dates and time series](https://pandas.pydata.org/pandas-docs/stable/user_guide/timeseries.html#)"
   ]
  }
 ],
 "metadata": {
  "kernelspec": {
   "display_name": "Python 3.8.8 ('base')",
   "language": "python",
   "name": "python3"
  },
  "language_info": {
   "codemirror_mode": {
    "name": "ipython",
    "version": 3
   },
   "file_extension": ".py",
   "mimetype": "text/x-python",
   "name": "python",
   "nbconvert_exporter": "python",
   "pygments_lexer": "ipython3",
   "version": "3.8.8"
  },
  "varInspector": {
   "cols": {
    "lenName": 16,
    "lenType": 16,
    "lenVar": 40
   },
   "kernels_config": {
    "python": {
     "delete_cmd_postfix": "",
     "delete_cmd_prefix": "del ",
     "library": "var_list.py",
     "varRefreshCmd": "print(var_dic_list())"
    },
    "r": {
     "delete_cmd_postfix": ") ",
     "delete_cmd_prefix": "rm(",
     "library": "var_list.r",
     "varRefreshCmd": "cat(var_dic_list()) "
    }
   },
   "types_to_exclude": [
    "module",
    "function",
    "builtin_function_or_method",
    "instance",
    "_Feature"
   ],
   "window_display": false
  },
  "vscode": {
   "interpreter": {
    "hash": "7c212824cb12fc878ff8eecb31e8c8e2c5317c726f1d2d9806c3c44a7604245f"
   }
  }
 },
 "nbformat": 4,
 "nbformat_minor": 2
}
